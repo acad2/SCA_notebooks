{
 "cells": [
  {
   "cell_type": "code",
   "execution_count": 5,
   "metadata": {
    "collapsed": false
   },
   "outputs": [
    {
     "data": {
      "text/plain": [
       "PyPlot"
      ]
     },
     "execution_count": 5,
     "metadata": {},
     "output_type": "execute_result"
    }
   ],
   "source": [
    "using PyPlot\n",
    "plt = PyPlot"
   ]
  },
  {
   "cell_type": "code",
   "execution_count": 7,
   "metadata": {
    "collapsed": false
   },
   "outputs": [
    {
     "name": "stderr",
     "output_type": "stream",
     "text": [
      "WARNING: Method definition transformSbox(Any, Any, Any) in module Main at In[6]:4 overwritten at In[7]:4.\n"
     ]
    },
    {
     "data": {
      "text/plain": [
       "transformSbox (generic function with 1 method)"
      ]
     },
     "execution_count": 7,
     "metadata": {},
     "output_type": "execute_result"
    }
   ],
   "source": [
    "#pass in s-box an array and its dimension nXm\n",
    "function transformSbox(sbox,n,m)\n",
    "    #n-bit input #m-bit output\n",
    "    F_components = zeros(Int,m,2^n)\n",
    "    for i in 1:2^n\n",
    "        val = sbox[i]\n",
    "        bin_val = bin(val,m)\n",
    "        for j in 1:m\n",
    "            F_components[j,i] = parse(Int,bin_val[j])\n",
    "        end\n",
    "    end\n",
    "    F_components\n",
    "end"
   ]
  },
  {
   "cell_type": "code",
   "execution_count": 10,
   "metadata": {
    "collapsed": true
   },
   "outputs": [],
   "source": [
    "S_box = [\n",
    "0x63, 0x7c, 0x77, 0x7b, 0xf2, 0x6b, 0x6f, 0xc5, 0x30, 0x01, 0x67, 0x2b, 0xfe, 0xd7, 0xab, 0x76,\n",
    "0xca, 0x82, 0xc9, 0x7d, 0xfa, 0x59, 0x47, 0xf0, 0xad, 0xd4, 0xa2, 0xaf, 0x9c, 0xa4, 0x72, 0xc0,\n",
    "0xb7, 0xfd, 0x93, 0x26, 0x36, 0x3f, 0xf7, 0xcc, 0x34, 0xa5, 0xe5, 0xf1, 0x71, 0xd8, 0x31, 0x15,\n",
    "0x04, 0xc7, 0x23, 0xc3, 0x18, 0x96, 0x05, 0x9a, 0x07, 0x12, 0x80, 0xe2, 0xeb, 0x27, 0xb2, 0x75,\n",
    "0x09, 0x83, 0x2c, 0x1a, 0x1b, 0x6e, 0x5a, 0xa0, 0x52, 0x3b, 0xd6, 0xb3, 0x29, 0xe3, 0x2f, 0x84,\n",
    "0x53, 0xd1, 0x00, 0xed, 0x20, 0xfc, 0xb1, 0x5b, 0x6a, 0xcb, 0xbe, 0x39, 0x4a, 0x4c, 0x58, 0xcf,\n",
    "0xd0, 0xef, 0xaa, 0xfb, 0x43, 0x4d, 0x33, 0x85, 0x45, 0xf9, 0x02, 0x7f, 0x50, 0x3c, 0x9f, 0xa8,\n",
    "0x51, 0xa3, 0x40, 0x8f, 0x92, 0x9d, 0x38, 0xf5, 0xbc, 0xb6, 0xda, 0x21, 0x10, 0xff, 0xf3, 0xd2,\n",
    "0xcd, 0x0c, 0x13, 0xec, 0x5f, 0x97, 0x44, 0x17, 0xc4, 0xa7, 0x7e, 0x3d, 0x64, 0x5d, 0x19, 0x73,\n",
    "0x60, 0x81, 0x4f, 0xdc, 0x22, 0x2a, 0x90, 0x88, 0x46, 0xee, 0xb8, 0x14, 0xde, 0x5e, 0x0b, 0xdb,\n",
    "0xe0, 0x32, 0x3a, 0x0a, 0x49, 0x06, 0x24, 0x5c, 0xc2, 0xd3, 0xac, 0x62, 0x91, 0x95, 0xe4, 0x79,\n",
    "0xe7, 0xc8, 0x37, 0x6d, 0x8d, 0xd5, 0x4e, 0xa9, 0x6c, 0x56, 0xf4, 0xea, 0x65, 0x7a, 0xae, 0x08,\n",
    "0xba, 0x78, 0x25, 0x2e, 0x1c, 0xa6, 0xb4, 0xc6, 0xe8, 0xdd, 0x74, 0x1f, 0x4b, 0xbd, 0x8b, 0x8a,\n",
    "0x70, 0x3e, 0xb5, 0x66, 0x48, 0x03, 0xf6, 0x0e, 0x61, 0x35, 0x57, 0xb9, 0x86, 0xc1, 0x1d, 0x9e,\n",
    "0xe1, 0xf8, 0x98, 0x11, 0x69, 0xd9, 0x8e, 0x94, 0x9b, 0x1e, 0x87, 0xe9, 0xce, 0x55, 0x28, 0xdf,\n",
    "0x8c, 0xa1, 0x89, 0x0d, 0xbf, 0xe6, 0x42, 0x68, 0x41, 0x99, 0x2d, 0x0f, 0xb0, 0x54, 0xbb, 0x16\n",
    "];"
   ]
  },
  {
   "cell_type": "code",
   "execution_count": 11,
   "metadata": {
    "collapsed": false
   },
   "outputs": [
    {
     "data": {
      "text/plain": [
       "8×256 Array{Int64,2}:\n",
       " 0  0  0  0  1  0  0  1  0  0  0  0  1  …  1  1  0  0  0  1  0  0  1  0  1  0\n",
       " 1  1  1  1  1  1  1  1  0  0  1  0  1     0  1  1  1  1  0  0  0  0  1  0  0\n",
       " 1  1  1  1  1  1  1  0  1  0  1  1  1     1  1  0  1  0  0  1  0  1  0  1  0\n",
       " 0  1  1  1  1  0  0  0  1  0  0  0  1     1  0  0  0  0  1  0  0  1  1  1  1\n",
       " 0  1  0  1  0  1  1  0  0  0  0  1  1     1  0  0  1  0  1  1  1  0  0  1  0\n",
       " 0  1  1  0  0  0  1  1  0  0  1  0  1  …  1  1  0  0  0  0  1  1  0  1  0  1\n",
       " 1  0  1  1  1  1  1  0  0  0  1  1  1     1  1  1  0  0  0  0  1  0  0  1  1\n",
       " 1  0  1  1  0  1  1  1  0  1  1  1  0     1  0  0  0  1  1  1  1  0  0  1  0"
      ]
     },
     "execution_count": 11,
     "metadata": {},
     "output_type": "execute_result"
    }
   ],
   "source": []
  },
  {
   "cell_type": "code",
   "execution_count": 4,
   "metadata": {
    "collapsed": false
   },
   "outputs": [
    {
     "data": {
      "text/plain": [
       "cross_corr (generic function with 1 method)"
      ]
     },
     "execution_count": 4,
     "metadata": {},
     "output_type": "execute_result"
    }
   ],
   "source": [
    "#cross-correlation of cryptographic functions\n",
    "function cross_corr(f1,f2,y)\n",
    "    sum = 0\n",
    "    n_inp = length(f1)\n",
    "    for x in 0:n_inp-1\n",
    "        sum += (-1)^(f1[x+1]$(f2[x$y+1]))\n",
    "    end\n",
    "    sum\n",
    "end"
   ]
  },
  {
   "cell_type": "code",
   "execution_count": 13,
   "metadata": {
    "collapsed": false
   },
   "outputs": [
    {
     "data": {
      "text/plain": [
       "4"
      ]
     },
     "execution_count": 13,
     "metadata": {},
     "output_type": "execute_result"
    }
   ],
   "source": [
    "cross_corr(Fsbox[1,:],Fsbox[2,:],1)"
   ]
  },
  {
   "cell_type": "code",
   "execution_count": 7,
   "metadata": {
    "collapsed": false
   },
   "outputs": [
    {
     "data": {
      "image/png": "[encoded data removed]",
      "text/plain": [
       "PyPlot.Figure(PyObject <matplotlib.figure.Figure object at 0x7f06aca6be90>)"
      ]
     },
     "metadata": {},
     "output_type": "display_data"
    },
    {
     "data": {
      "text/plain": [
       "PyObject <matplotlib.collections.PathCollection object at 0x7f06aa78f390>"
      ]
     },
     "execution_count": 7,
     "metadata": {},
     "output_type": "execute_result"
    }
   ],
   "source": [
    "Y = zeros(Int,256)\n",
    "for y in 0:255\n",
    "    Y[y+1] = abs(cross_corr(Fsbox[1,:],Fsbox[8,:],y))\n",
    "end\n",
    "plt.scatter(0:255,Y)"
   ]
  },
  {
   "cell_type": "code",
   "execution_count": 1,
   "metadata": {
    "collapsed": false
   },
   "outputs": [
    {
     "data": {
      "text/plain": [
       "mybool (generic function with 1 method)"
      ]
     },
     "execution_count": 1,
     "metadata": {},
     "output_type": "execute_result"
    }
   ],
   "source": [
    "function mybool(val,n)\n",
    "    binval = bin(val,n)\n",
    "    binarr = Int[]\n",
    "    for i in 1:n\n",
    "        push!(binarr,parse(Int,binval[i]))\n",
    "    end\n",
    "    binarr\n",
    "end"
   ]
  },
  {
   "cell_type": "code",
   "execution_count": 2,
   "metadata": {
    "collapsed": false
   },
   "outputs": [
    {
     "data": {
      "text/plain": [
       "8-element Array{Int64,1}:\n",
       " 0\n",
       " 0\n",
       " 0\n",
       " 0\n",
       " 0\n",
       " 0\n",
       " 0\n",
       " 1"
      ]
     },
     "execution_count": 2,
     "metadata": {},
     "output_type": "execute_result"
    }
   ],
   "source": [
    "mybool(1,8)"
   ]
  },
  {
   "cell_type": "code",
   "execution_count": 51,
   "metadata": {
    "collapsed": false
   },
   "outputs": [
    {
     "name": "stderr",
     "output_type": "stream",
     "text": [
      "WARNING: Method definition newTO(Any, Any, Any, Any, Any) in module Main at In[49]:6 overwritten at In[51]:6.\n"
     ]
    },
    {
     "data": {
      "text/plain": [
       "newTO (generic function with 1 method)"
      ]
     },
     "execution_count": 51,
     "metadata": {},
     "output_type": "execute_result"
    }
   ],
   "source": [
    "#Fsbox is suppose to be the 2D array consisting of component functions of S-box\n",
    "#β is suppose to be output of mybool\n",
    "#n,m are dimension of sboxes\n",
    "#k_original is the subkey being used with the s_box in the paper it has been taken as 0\n",
    "function newTO(Fsbox, β, k_original, n, m)\n",
    "    term1 = m\n",
    "    sum = 0\n",
    "    for a in 0:(2^n)-1\n",
    "        if(a != k_original)\n",
    "            tj = 0\n",
    "            for j in 1:m\n",
    "                ti = 0\n",
    "                for i in 1:m\n",
    "                    ti += ((-1)^(β[i]$β[j]))*cross_corr(Fsbox[i,:],Fsbox[j,:],a)\n",
    "                end\n",
    "                tj += abs(ti)\n",
    "            end\n",
    "            sum += tj\n",
    "        end\n",
    "    end\n",
    "\n",
    "    coeff = 1/(2^(2*n) - 2^n)\n",
    "    return (m - coeff*sum)\n",
    "end"
   ]
  },
  {
   "cell_type": "code",
   "execution_count": null,
   "metadata": {
    "collapsed": true
   },
   "outputs": [],
   "source": [
    "#Fsbox is suppose to be the 2D array consisting of component functions of S-box\n",
    "#β is suppose to be output of mybool\n",
    "#n,m are dimension of sboxes\n",
    "#k_original is the subkey being used with the s_box in the paper it has been taken as 0\n",
    "function newTO2(Fsbox, β, k_original, n, m)\n",
    "    term1 = m\n",
    "    sum = 0\n",
    "    for a in 0:(2^n)-1\n",
    "        if(a != k_original)\n",
    "            tj = 0\n",
    "            for j in 1:m\n",
    "                s1 = (-1)^(β[j])*cross_corr(Fsbox[j,:],Fsbox[j,:],a)\n",
    "                ti = 0\n",
    "                for i in 1:m\n",
    "                    if(i != j)\n",
    "                        ti += (-1)^(β[i])*cross_corr(Fsbox[i,:],Fsbox[j,:],a)\n",
    "                    end\n",
    "                end\n",
    "                tj += abs(s1 + ti)\n",
    "            end\n",
    "            sum += tj\n",
    "        end\n",
    "    end\n",
    "\n",
    "    coeff = 1/(2^(2*n) - 2^n)\n",
    "    return (m - coeff*sum)\n",
    "end"
   ]
  },
  {
   "cell_type": "code",
   "execution_count": 21,
   "metadata": {
    "collapsed": false
   },
   "outputs": [
    {
     "data": {
      "text/plain": [
       "130560"
      ]
     },
     "execution_count": 21,
     "metadata": {},
     "output_type": "execute_result"
    }
   ],
   "source": [
    "n=8\n",
    "(2^(2*n) - 2^n)*2"
   ]
  },
  {
   "cell_type": "code",
   "execution_count": 52,
   "metadata": {
    "collapsed": false
   },
   "outputs": [
    {
     "data": {
      "text/plain": [
       "6.794975490196078"
      ]
     },
     "execution_count": 52,
     "metadata": {},
     "output_type": "execute_result"
    }
   ],
   "source": [
    "newTO(Fsbox, [0,0,0,1,0,0,1,1], 255, 8, 8)"
   ]
  },
  {
   "cell_type": "code",
   "execution_count": 12,
   "metadata": {
    "collapsed": false
   },
   "outputs": [
    {
     "data": {
      "text/plain": [
       "256-element Array{Any,1}:\n",
       " Any[0,0,0,0,0,0,0,0]\n",
       " Any[0,0,0,0,0,0,0,1]\n",
       " Any[0,0,0,0,0,0,1,0]\n",
       " Any[0,0,0,0,0,0,1,1]\n",
       " Any[0,0,0,0,0,1,0,0]\n",
       " Any[0,0,0,0,0,1,0,1]\n",
       " Any[0,0,0,0,0,1,1,0]\n",
       " Any[0,0,0,0,0,1,1,1]\n",
       " Any[0,0,0,0,1,0,0,0]\n",
       " Any[0,0,0,0,1,0,0,1]\n",
       " Any[0,0,0,0,1,0,1,0]\n",
       " Any[0,0,0,0,1,0,1,1]\n",
       " Any[0,0,0,0,1,1,0,0]\n",
       " ⋮                   \n",
       " Any[1,1,1,1,0,1,0,0]\n",
       " Any[1,1,1,1,0,1,0,1]\n",
       " Any[1,1,1,1,0,1,1,0]\n",
       " Any[1,1,1,1,0,1,1,1]\n",
       " Any[1,1,1,1,1,0,0,0]\n",
       " Any[1,1,1,1,1,0,0,1]\n",
       " Any[1,1,1,1,1,0,1,0]\n",
       " Any[1,1,1,1,1,0,1,1]\n",
       " Any[1,1,1,1,1,1,0,0]\n",
       " Any[1,1,1,1,1,1,0,1]\n",
       " Any[1,1,1,1,1,1,1,0]\n",
       " Any[1,1,1,1,1,1,1,1]"
      ]
     },
     "execution_count": 12,
     "metadata": {},
     "output_type": "execute_result"
    }
   ],
   "source": [
    "unit_size = 8\n",
    "β_container = []\n",
    "for i in 0:2^unit_size-1\n",
    "    push!(β_container,mybool(i,unit_size))\n",
    "end\n",
    "β_container"
   ]
  },
  {
   "cell_type": "code",
   "execution_count": 13,
   "metadata": {
    "collapsed": false
   },
   "outputs": [
    {
     "data": {
      "text/plain": [
       "Dict{Any,Any} with 256 entries:\n",
       "  Any[0,1,1,0,0,0,0,1] => 3\n",
       "  Any[1,1,1,0,0,0,0,1] => 4\n",
       "  Any[0,0,1,1,0,1,0,1] => 4\n",
       "  Any[1,0,1,0,1,0,0,0] => 3\n",
       "  Any[1,0,1,0,0,0,0,0] => 2\n",
       "  Any[0,1,1,0,1,1,0,1] => 5\n",
       "  Any[1,0,0,0,1,1,0,1] => 4\n",
       "  Any[1,1,0,1,1,1,0,1] => 6\n",
       "  Any[1,1,0,0,0,1,1,0] => 4\n",
       "  Any[1,1,0,1,1,1,1,0] => 6\n",
       "  Any[0,0,1,0,0,1,0,0] => 2\n",
       "  Any[0,0,0,0,0,0,1,1] => 2\n",
       "  Any[1,1,0,0,1,1,1,0] => 5\n",
       "  Any[0,0,1,1,1,0,1,0] => 4\n",
       "  Any[0,0,1,0,1,0,0,1] => 3\n",
       "  Any[1,1,1,1,0,0,1,0] => 5\n",
       "  Any[0,0,1,1,0,0,0,1] => 3\n",
       "  Any[1,0,1,0,1,0,1,0] => 4\n",
       "  Any[0,0,0,1,0,0,1,1] => 3\n",
       "  Any[0,0,0,1,0,1,1,1] => 4\n",
       "  Any[1,0,1,0,0,1,0,0] => 3\n",
       "  Any[0,0,1,1,1,0,0,1] => 4\n",
       "  Any[1,0,0,0,0,0,1,0] => 2\n",
       "  Any[0,0,0,0,0,1,0,1] => 2\n",
       "  Any[0,1,1,0,1,1,0,0] => 4\n",
       "  ⋮                    => ⋮"
      ]
     },
     "execution_count": 13,
     "metadata": {},
     "output_type": "execute_result"
    }
   ],
   "source": [
    "#constructing HW look up table for this\n",
    "H = Dict()\n",
    "for β in β_container\n",
    "    count = 0\n",
    "    for i in β\n",
    "        if(i == 1)\n",
    "            count += 1\n",
    "        end\n",
    "    end\n",
    "    H[β] = count\n",
    "end\n",
    "H"
   ]
  },
  {
   "cell_type": "code",
   "execution_count": 55,
   "metadata": {
    "collapsed": false
   },
   "outputs": [
    {
     "data": {
      "image/png": "[encoded data removed]",
      "text/plain": [
       "PyPlot.Figure(PyObject <matplotlib.figure.Figure object at 0x7f06aa346750>)"
      ]
     },
     "metadata": {},
     "output_type": "display_data"
    }
   ],
   "source": [
    "Y = zeros(2^unit_size)\n",
    "i = 1\n",
    "for β in β_container\n",
    "    Y[i] = newTO(Fsbox,β,0,8,8)\n",
    "    i +=1\n",
    "end\n",
    "plt.scatter(0:255, Y)\n",
    "plt.xlim(0,255)\n",
    "plt.ylim(6.5,7.0)\n",
    "xlabel(\"beta\")\n",
    "plt.savefig(\"TO_F_beta.png\")"
   ]
  },
  {
   "cell_type": "code",
   "execution_count": 42,
   "metadata": {
    "collapsed": false
   },
   "outputs": [
    {
     "data": {
      "image/png": "[encoded data removed]",
      "text/plain": [
       "PyPlot.Figure(PyObject <matplotlib.figure.Figure object at 0x7f06aa036bd0>)"
      ]
     },
     "metadata": {},
     "output_type": "display_data"
    }
   ],
   "source": [
    "Y = zeros(2^unit_size)\n",
    "i = 1\n",
    "for β in β_container\n",
    "    Y[i] = newTO(Fsbox,β,0,8,8)\n",
    "    i +=1\n",
    "end\n",
    "plt.scatter(0:255, Y)\n",
    "plt.xlim(0,255)\n",
    "plt.ylim(6.5,7.0)\n",
    "xlabel(\"beta\")\n",
    "plt.savefig(\"TO_F_beta.png\")"
   ]
  },
  {
   "cell_type": "code",
   "execution_count": 35,
   "metadata": {
    "collapsed": false
   },
   "outputs": [
    {
     "name": "stderr",
     "output_type": "stream",
     "text": [
      "WARNING: Method definition new_τ(Any, Any, Any, Any, Any) in module Main at In[29]:2 overwritten at In[35]:2.\n"
     ]
    },
    {
     "data": {
      "text/plain": [
       "new_τ (generic function with 1 method)"
      ]
     },
     "execution_count": 35,
     "metadata": {},
     "output_type": "execute_result"
    }
   ],
   "source": [
    "function new_τ(Fsbox, β, k_original, n, m)\n",
    "    term1 = abs(m - 2*H[β])\n",
    "    coeff = 1/(2^(2*n) - 2^n)\n",
    "    \n",
    "    sum = 0\n",
    "    for a in 0:(2^n)-1\n",
    "        if(a != k_original)\n",
    "            tj = 0\n",
    "            for j in 1:m\n",
    "                #s1 = (-1)^(β[j])*cross_corr(Fsbox[j,:],Fsbox[j,:],a)\n",
    "                ti = 0\n",
    "                for i in 1:m\n",
    "                    if(i != j)\n",
    "                        ti += (-1)^(β[i]$β[j])*cross_corr(Fsbox[i,:],Fsbox[j,:],a)\n",
    "                    end\n",
    "                end\n",
    "                tj += ti\n",
    "            end\n",
    "            sum += abs(tj)\n",
    "        end\n",
    "    end\n",
    "    term2 = -1*coeff*sum\n",
    "    term1+term2\n",
    "end             "
   ]
  },
  {
   "cell_type": "code",
   "execution_count": 30,
   "metadata": {
    "collapsed": false
   },
   "outputs": [
    {
     "data": {
      "image/png": "[encoded data removed]",
      "text/plain": [
       "PyPlot.Figure(PyObject <matplotlib.figure.Figure object at 0x7f06aa225950>)"
      ]
     },
     "metadata": {},
     "output_type": "display_data"
    },
    {
     "data": {
      "text/plain": [
       "(-2,8)"
      ]
     },
     "execution_count": 30,
     "metadata": {},
     "output_type": "execute_result"
    }
   ],
   "source": [
    "Y = []\n",
    "for β in β_container\n",
    "    push!(Y,new_τ(Fsbox,β,0,8,8))\n",
    "end\n",
    "plt.scatter(0:255,Y)\n",
    "plt.xlim(-2,257)\n",
    "plt.ylim(-2, 8)"
   ]
  }
 ],
 "metadata": {
  "kernelspec": {
   "display_name": "Julia 0.5.1",
   "language": "julia",
   "name": "julia-0.5"
  },
  "language_info": {
   "file_extension": ".jl",
   "mimetype": "application/julia",
   "name": "julia",
   "version": "0.5.2"
  },
  "widgets": {
   "state": {},
   "version": "1.1.2"
  }
 },
 "nbformat": 4,
 "nbformat_minor": 0
}
