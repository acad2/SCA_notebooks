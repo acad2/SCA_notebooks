{
 "cells": [
  {
   "cell_type": "code",
   "execution_count": 5,
   "metadata": {},
   "outputs": [
    {
     "data": {
      "text/plain": [
       "PyPlot"
      ]
     },
     "execution_count": 5,
     "metadata": {},
     "output_type": "execute_result"
    }
   ],
   "source": [
    "using MAT\n",
    "using DataFrames\n",
    "using PyPlot\n",
    "plt = PyPlot"
   ]
  },
  {
   "cell_type": "code",
   "execution_count": 6,
   "metadata": {},
   "outputs": [
    {
     "data": {
      "text/plain": [
       "uint32tohex128 (generic function with 1 method)"
      ]
     },
     "execution_count": 6,
     "metadata": {},
     "output_type": "execute_result"
    }
   ],
   "source": [
    "function uint32tohex128(n)\n",
    "    pt = \"\"\n",
    "    for i in 1:4\n",
    "        pt = join([hex(n[i],8) pt])\n",
    "    end\n",
    "    pt\n",
    "end"
   ]
  },
  {
   "cell_type": "code",
   "execution_count": 11,
   "metadata": {},
   "outputs": [],
   "source": [
    "for q in 5000:5000:500000\n",
    "    fname = \"traces$(q).mat\"\n",
    "    f = matopen(join([\"../traces2017-04-28_12_32_37/AES_traces_500K_Uprotected/\" fname]))\n",
    "    ptexts = read(f,\"ptexts\") \n",
    "    traces = read(f,\"traces\")\n",
    "    n_pt = length(ptexts[:,1])\n",
    "    hptexts = String[]\n",
    "    for i in 1:n_pt\n",
    "        n = ptexts[i,:]\n",
    "        p = uint32tohex128(n)\n",
    "        push!(hptexts,p)\n",
    "    end\n",
    "    writedlm(\"../plaintexts/pt$(q).txt\",hptexts)\n",
    "    close(f)\n",
    "end"
   ]
  },
  {
   "cell_type": "code",
   "execution_count": 14,
   "metadata": {},
   "outputs": [],
   "source": [
    "for q in 5000:5000:500000\n",
    "    fname = \"pc$(q).txt\"\n",
    "    f = open(join([\"../pctexts/\" fname]))\n",
    "    pc_lines = readlines(f)\n",
    "    \n",
    "    matfname = \"traces$(q).mat\"\n",
    "    matf = matopen(join([\"../traces2017-04-28_12_32_37/AES_traces_500K_Uprotected/\" matfname])) \n",
    "    traces = read(matf,\"traces\")\n",
    "    \n",
    "    open(\"../AES_sasebo_g2_traces/trace$(q).csv\",\"w\") do f1\n",
    "        for i in 1:5000\n",
    "            tr_line=\"\"\n",
    "            for j in 1:1250\n",
    "                tr_line = join([tr_line,\",\",traces[i,j]])\n",
    "            end\n",
    "            l = join([pc_lines[i][1:end],tr_line,\"\\n\"])\n",
    "            write(f1,l)\n",
    "        end\n",
    "    end\n",
    "    close(f)\n",
    "    close(matf)\n",
    "end"
   ]
  }
 ],
 "metadata": {
  "kernelspec": {
   "display_name": "Julia 0.6.0",
   "language": "julia",
   "name": "julia-0.6"
  },
  "language_info": {
   "file_extension": ".jl",
   "mimetype": "application/julia",
   "name": "julia",
   "version": "0.6.0"
  },
  "widgets": {
   "state": {},
   "version": "1.1.2"
  }
 },
 "nbformat": 4,
 "nbformat_minor": 1
}
